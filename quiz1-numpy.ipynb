{
 "cells": [
  {
   "cell_type": "markdown",
   "id": "60d18e48",
   "metadata": {},
   "source": [
    "<h1 style=\"font-size:3rem;color:orange;\">Machine Learning Quiz 1 "
   ]
  },
  {
   "cell_type": "markdown",
   "id": "61a7f4fc",
   "metadata": {},
   "source": [
    "<h6 style=\"font-size:3rem;color:orange;\">Abigail Dawn Davocol"
   ]
  },
  {
   "cell_type": "markdown",
   "id": "89b41cff",
   "metadata": {},
   "source": [
    "# Part 1"
   ]
  },
  {
   "cell_type": "markdown",
   "id": "9854618b",
   "metadata": {},
   "source": [
    "# Creating 1D array for y and y_hat"
   ]
  },
  {
   "cell_type": "code",
   "execution_count": 221,
   "id": "9677efbb",
   "metadata": {},
   "outputs": [
    {
     "name": "stdout",
     "output_type": "stream",
     "text": [
      "[-1.         -0.89473684 -0.78947368 -0.68421053 -0.57894737 -0.47368421\n",
      " -0.36842105 -0.26315789 -0.15789474 -0.05263158  0.05263158  0.15789474\n",
      "  0.26315789  0.36842105  0.47368421  0.57894737  0.68421053  0.78947368\n",
      "  0.89473684  1.        ]\n"
     ]
    }
   ],
   "source": [
    "import numpy as np\n",
    "np.seterr(divide='ignore', invalid='ignore')\n",
    "\n",
    "import math\n",
    "\n",
    "y_hat = np.linspace(-1,1, num=20)\n",
    "print(y_hat)"
   ]
  },
  {
   "cell_type": "code",
   "execution_count": 37,
   "id": "32351419",
   "metadata": {},
   "outputs": [
    {
     "name": "stdout",
     "output_type": "stream",
     "text": [
      "[0.         0.05263158 0.10526316 0.15789474 0.21052632 0.26315789\n",
      " 0.31578947 0.36842105 0.42105263 0.47368421 0.52631579 0.57894737\n",
      " 0.63157895 0.68421053 0.73684211 0.78947368 0.84210526 0.89473684\n",
      " 0.94736842 1.        ]\n"
     ]
    }
   ],
   "source": [
    "y = np.linspace(0,1,num=20)\n",
    "print(y)"
   ]
  },
  {
   "cell_type": "markdown",
   "id": "b7b51a78",
   "metadata": {},
   "source": [
    "# Computing dimension and shape for y_hat and y"
   ]
  },
  {
   "cell_type": "markdown",
   "id": "31855cea",
   "metadata": {},
   "source": [
    "<p>Shape and dimension of y_hat:</p>"
   ]
  },
  {
   "cell_type": "code",
   "execution_count": 26,
   "id": "20767243",
   "metadata": {},
   "outputs": [
    {
     "name": "stdout",
     "output_type": "stream",
     "text": [
      "Shape: (20,)\n",
      "Dimension: 1\n"
     ]
    }
   ],
   "source": [
    "print(\"Shape:\",y_hat.shape)\n",
    "print(\"Dimension:\",y_hat.ndim)"
   ]
  },
  {
   "cell_type": "markdown",
   "id": "25666d35",
   "metadata": {},
   "source": [
    "<p>Shape and dimension of y:</p>"
   ]
  },
  {
   "cell_type": "code",
   "execution_count": 32,
   "id": "82281dbd",
   "metadata": {},
   "outputs": [
    {
     "name": "stdout",
     "output_type": "stream",
     "text": [
      "Shape: (20,)\n",
      "Dimension: 1\n"
     ]
    }
   ],
   "source": [
    "print(\"Shape:\",y.shape)\n",
    "print(\"Dimension:\",y.ndim)"
   ]
  },
  {
   "cell_type": "markdown",
   "id": "091ad737",
   "metadata": {},
   "source": [
    "# Loss Functions"
   ]
  },
  {
   "cell_type": "markdown",
   "id": "1ea85312",
   "metadata": {},
   "source": [
    "<p>Mean Squared Error:</p>"
   ]
  },
  {
   "cell_type": "code",
   "execution_count": 167,
   "id": "a6102bff",
   "metadata": {},
   "outputs": [
    {
     "name": "stdout",
     "output_type": "stream",
     "text": [
      "0.3421052631578948\n"
     ]
    }
   ],
   "source": [
    "def mean_squared_error(actual, predicted):\n",
    "    difference = np.subtract(actual,predicted)\n",
    "    square = np.square(difference)\n",
    "    return np.mean(square)\n",
    "\n",
    "print(mean_squared_error(y,y_hat))"
   ]
  },
  {
   "cell_type": "markdown",
   "id": "e9dcc916",
   "metadata": {},
   "source": [
    "<p>Mean Absolute Error:</p>"
   ]
  },
  {
   "cell_type": "code",
   "execution_count": 166,
   "id": "5a30f4bd",
   "metadata": {},
   "outputs": [
    {
     "name": "stdout",
     "output_type": "stream",
     "text": [
      "0.4999999999999999\n"
     ]
    }
   ],
   "source": [
    "def mean_absolute_error(actual,predicted):\n",
    "    difference = np.subtract(actual,predicted)\n",
    "    absolute = np.absolute(difference)\n",
    "    return(np.mean(absolute))\n",
    "   \n",
    "print(mean_absolute_error(y,y_hat))"
   ]
  },
  {
   "cell_type": "markdown",
   "id": "8b4013b9",
   "metadata": {},
   "source": [
    "<p>Mean Squared Logarithmic Error:</p>"
   ]
  },
  {
   "cell_type": "code",
   "execution_count": 168,
   "id": "f6bbd756",
   "metadata": {},
   "outputs": [
    {
     "name": "stdout",
     "output_type": "stream",
     "text": [
      "Array values contains negative values\n"
     ]
    }
   ],
   "source": [
    "def mean_squared_log_error(actual, predicted,arrays_valid):\n",
    "    \n",
    "    if(arrays_valid):\n",
    "        log_actual = np.log(actual)\n",
    "        log_predicted = np.log(predicted)\n",
    "    \n",
    "        msle = np.square(np.subtract(log_actual,log_predicted))\n",
    "        return (np.mean(msle))\n",
    "    else:\n",
    "        return \"Array values contains negative values\"\n",
    "\n",
    "    \n",
    "def check_if_array_is_valid(actual,predicted):\n",
    "    if all(i > 0 for i in actual):\n",
    "        actual_valid = True\n",
    "    else:\n",
    "        actual_valid = False\n",
    "    if all(j > 0 for j in predicted): \n",
    "        predicted_valid = True\n",
    "    else:\n",
    "        predicted_valid = False\n",
    "    \n",
    "    return actual_valid or predicted_valid\n",
    "       \n",
    "print(mean_squared_log_error(y, y_hat, check_if_array_is_valid(y,y_hat)))"
   ]
  },
  {
   "cell_type": "markdown",
   "id": "53057214",
   "metadata": {},
   "source": [
    "<p>Mean Absolute Percentage Error:</p>"
   ]
  },
  {
   "cell_type": "code",
   "execution_count": 219,
   "id": "121fe2cb",
   "metadata": {},
   "outputs": [
    {
     "name": "stdout",
     "output_type": "stream",
     "text": [
      "y array contains a 0 value\n"
     ]
    }
   ],
   "source": [
    "def mean_abs_percentage_error(actual, predicted):\n",
    "    \n",
    "    if all(i != 0 for i in actual):\n",
    "        difference = np.subtract(actual,predicted)/actual\n",
    "        mape = np.mean(np.abs(qoutient))*100\n",
    "        print(np.abs(qoutient).mean())\n",
    "        return mape\n",
    "    else:\n",
    "        return \"y array contains a 0 value\"\n",
    "\n",
    "print(mean_abs_percentage_error(y,y_hat))"
   ]
  },
  {
   "cell_type": "markdown",
   "id": "f27c7566",
   "metadata": {},
   "source": [
    "# Part 2"
   ]
  },
  {
   "cell_type": "markdown",
   "id": "f4ea4aef",
   "metadata": {},
   "source": [
    "# Create a 1d array M{1,2,...16}"
   ]
  },
  {
   "cell_type": "code",
   "execution_count": 225,
   "id": "650d13cb",
   "metadata": {},
   "outputs": [
    {
     "data": {
      "text/plain": [
       "array([ 1,  2,  3,  4,  5,  6,  7,  8,  9, 10, 11, 12, 13, 14, 15, 16])"
      ]
     },
     "execution_count": 225,
     "metadata": {},
     "output_type": "execute_result"
    }
   ],
   "source": [
    "M = np.arange(start=1, stop=17)\n",
    "M"
   ]
  },
  {
   "cell_type": "markdown",
   "id": "fd3c282d",
   "metadata": {},
   "source": [
    "# Reshape M into a 4x4 array"
   ]
  },
  {
   "cell_type": "code",
   "execution_count": 224,
   "id": "a1da7ebc",
   "metadata": {},
   "outputs": [
    {
     "data": {
      "text/plain": [
       "array([[ 1,  2,  3,  4],\n",
       "       [ 5,  6,  7,  8],\n",
       "       [ 9, 10, 11, 12],\n",
       "       [13, 14, 15, 16]])"
      ]
     },
     "execution_count": 224,
     "metadata": {},
     "output_type": "execute_result"
    }
   ],
   "source": [
    "N = np.reshape(M,(4,4))\n",
    "N"
   ]
  },
  {
   "cell_type": "markdown",
   "id": "7b680596",
   "metadata": {},
   "source": [
    "# 2nd row of N"
   ]
  },
  {
   "cell_type": "code",
   "execution_count": 229,
   "id": "d9038538",
   "metadata": {},
   "outputs": [
    {
     "name": "stdout",
     "output_type": "stream",
     "text": [
      "[5 6 7 8]\n"
     ]
    }
   ],
   "source": [
    "print(N[1])"
   ]
  },
  {
   "cell_type": "markdown",
   "id": "6a7384ff",
   "metadata": {},
   "source": [
    "# Minimum values for each column of N"
   ]
  },
  {
   "cell_type": "code",
   "execution_count": 238,
   "id": "d69a35f3",
   "metadata": {},
   "outputs": [
    {
     "name": "stdout",
     "output_type": "stream",
     "text": [
      "Column 0 minimum value:1\n",
      "Column 1 minimum value:2\n",
      "Column 2 minimum value:3\n",
      "Column 3 minimum value:4\n"
     ]
    }
   ],
   "source": [
    "#axis = 0 to get the columns of the matrix\n",
    "min_values = np.min(N, axis=0) \n",
    "\n",
    "for i in range(len(min_values)):\n",
    "    print (\"Column \" + str(i) + \" minimum value:\" + str(min_values[i]))"
   ]
  },
  {
   "cell_type": "markdown",
   "id": "cf26ca82",
   "metadata": {},
   "source": [
    "# Locations of the minimum values for each column of N"
   ]
  },
  {
   "cell_type": "code",
   "execution_count": 266,
   "id": "a7bec720",
   "metadata": {},
   "outputs": [
    {
     "name": "stdout",
     "output_type": "stream",
     "text": [
      "Column 0 minimum value 1 is located at index: 0\n",
      "Column 1 minimum value 2 is located at index: 1\n",
      "Column 2 minimum value 3 is located at index: 2\n",
      "Column 3 minimum value 4 is located at index: 3\n"
     ]
    }
   ],
   "source": [
    "for i in range(len(min_values)):\n",
    "    array_index = np.where(N==min_values[i]) \n",
    "    print (\"Column \" + str(i) + \" minimum value \" + str(min_values[i]) + \" is located at index: \" + str(array_index[1][0]))"
   ]
  },
  {
   "cell_type": "markdown",
   "id": "202a03bb",
   "metadata": {},
   "source": [
    "# Get the average of the whole matrix"
   ]
  },
  {
   "cell_type": "code",
   "execution_count": 257,
   "id": "b067e61d",
   "metadata": {},
   "outputs": [
    {
     "name": "stdout",
     "output_type": "stream",
     "text": [
      "Average of the whole matrix: 8.5\n"
     ]
    }
   ],
   "source": [
    "matrix_average = np.average(N)\n",
    "print(\"Average of the whole matrix:\", matrix_average)"
   ]
  },
  {
   "cell_type": "markdown",
   "id": "f83e74f8",
   "metadata": {},
   "source": [
    "# vector V with 4 elements, each element is 1"
   ]
  },
  {
   "cell_type": "code",
   "execution_count": 261,
   "id": "ac7601bf",
   "metadata": {},
   "outputs": [
    {
     "name": "stdout",
     "output_type": "stream",
     "text": [
      "Vector with 4 elements: [1 1 1 1]\n"
     ]
    }
   ],
   "source": [
    "listV = [1,1,1,1]\n",
    "\n",
    "V = np.array(listV)\n",
    "print(\"Vector with 4 elements:\",V)"
   ]
  },
  {
   "cell_type": "markdown",
   "id": "ce3280f7",
   "metadata": {},
   "source": [
    "# Dot Product of N and V"
   ]
  },
  {
   "cell_type": "code",
   "execution_count": 265,
   "id": "587faee9",
   "metadata": {},
   "outputs": [
    {
     "name": "stdout",
     "output_type": "stream",
     "text": [
      "Dot product result: [10 26 42 58]\n"
     ]
    }
   ],
   "source": [
    "dot_product = np.dot(N,V)\n",
    "print(\"Dot product result:\", dot_product)"
   ]
  },
  {
   "cell_type": "code",
   "execution_count": null,
   "id": "11c9c545",
   "metadata": {},
   "outputs": [],
   "source": []
  }
 ],
 "metadata": {
  "kernelspec": {
   "display_name": "Python 3 (ipykernel)",
   "language": "python",
   "name": "python3"
  },
  "language_info": {
   "codemirror_mode": {
    "name": "ipython",
    "version": 3
   },
   "file_extension": ".py",
   "mimetype": "text/x-python",
   "name": "python",
   "nbconvert_exporter": "python",
   "pygments_lexer": "ipython3",
   "version": "3.9.12"
  }
 },
 "nbformat": 4,
 "nbformat_minor": 5
}
